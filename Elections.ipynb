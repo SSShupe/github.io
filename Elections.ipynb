{
 "cells": [
  {
   "cell_type": "code",
   "execution_count": 1,
   "metadata": {},
   "outputs": [],
   "source": [
    "using DataFrames, CSV"
   ]
  },
  {
   "cell_type": "code",
   "execution_count": 2,
   "metadata": {},
   "outputs": [
    {
     "data": {
      "text/html": [
       "<table class=\"data-frame\"><thead><tr><th></th><th>year</th><th>state</th><th>state_po</th><th>state_fips</th><th>state_cen</th><th>state_ic</th><th>office</th><th>district</th><th>stage</th></tr><tr><th></th><th>Int64</th><th>String</th><th>String</th><th>Int64</th><th>Int64</th><th>Int64</th><th>String</th><th>Int64</th><th>String?</th></tr></thead><tbody><p>29,636 rows × 19 columns (omitted printing of 10 columns)</p><tr><th>1</th><td>1976</td><td>Alabama</td><td>AL</td><td>1</td><td>63</td><td>41</td><td>US House</td><td>1</td><td>gen</td></tr><tr><th>2</th><td>1976</td><td>Alabama</td><td>AL</td><td>1</td><td>63</td><td>41</td><td>US House</td><td>1</td><td>gen</td></tr><tr><th>3</th><td>1976</td><td>Alabama</td><td>AL</td><td>1</td><td>63</td><td>41</td><td>US House</td><td>1</td><td>gen</td></tr><tr><th>4</th><td>1976</td><td>Alabama</td><td>AL</td><td>1</td><td>63</td><td>41</td><td>US House</td><td>2</td><td>gen</td></tr><tr><th>5</th><td>1976</td><td>Alabama</td><td>AL</td><td>1</td><td>63</td><td>41</td><td>US House</td><td>2</td><td>gen</td></tr><tr><th>6</th><td>1976</td><td>Alabama</td><td>AL</td><td>1</td><td>63</td><td>41</td><td>US House</td><td>2</td><td>gen</td></tr><tr><th>7</th><td>1976</td><td>Alabama</td><td>AL</td><td>1</td><td>63</td><td>41</td><td>US House</td><td>3</td><td>gen</td></tr><tr><th>8</th><td>1976</td><td>Alabama</td><td>AL</td><td>1</td><td>63</td><td>41</td><td>US House</td><td>3</td><td>gen</td></tr><tr><th>9</th><td>1976</td><td>Alabama</td><td>AL</td><td>1</td><td>63</td><td>41</td><td>US House</td><td>3</td><td>gen</td></tr><tr><th>10</th><td>1976</td><td>Alabama</td><td>AL</td><td>1</td><td>63</td><td>41</td><td>US House</td><td>4</td><td>gen</td></tr><tr><th>11</th><td>1976</td><td>Alabama</td><td>AL</td><td>1</td><td>63</td><td>41</td><td>US House</td><td>4</td><td>gen</td></tr><tr><th>12</th><td>1976</td><td>Alabama</td><td>AL</td><td>1</td><td>63</td><td>41</td><td>US House</td><td>4</td><td>gen</td></tr><tr><th>13</th><td>1976</td><td>Alabama</td><td>AL</td><td>1</td><td>63</td><td>41</td><td>US House</td><td>5</td><td>gen</td></tr><tr><th>14</th><td>1976</td><td>Alabama</td><td>AL</td><td>1</td><td>63</td><td>41</td><td>US House</td><td>5</td><td>gen</td></tr><tr><th>15</th><td>1976</td><td>Alabama</td><td>AL</td><td>1</td><td>63</td><td>41</td><td>US House</td><td>6</td><td>gen</td></tr><tr><th>16</th><td>1976</td><td>Alabama</td><td>AL</td><td>1</td><td>63</td><td>41</td><td>US House</td><td>6</td><td>gen</td></tr><tr><th>17</th><td>1976</td><td>Alabama</td><td>AL</td><td>1</td><td>63</td><td>41</td><td>US House</td><td>6</td><td>gen</td></tr><tr><th>18</th><td>1976</td><td>Alabama</td><td>AL</td><td>1</td><td>63</td><td>41</td><td>US House</td><td>7</td><td>gen</td></tr><tr><th>19</th><td>1976</td><td>Alabama</td><td>AL</td><td>1</td><td>63</td><td>41</td><td>US House</td><td>7</td><td>gen</td></tr><tr><th>20</th><td>1976</td><td>Alaska</td><td>AK</td><td>2</td><td>94</td><td>81</td><td>US House</td><td>0</td><td>gen</td></tr><tr><th>21</th><td>1976</td><td>Alaska</td><td>AK</td><td>2</td><td>94</td><td>81</td><td>US House</td><td>0</td><td>gen</td></tr><tr><th>22</th><td>1976</td><td>Alaska</td><td>AK</td><td>2</td><td>94</td><td>81</td><td>US House</td><td>0</td><td>gen</td></tr><tr><th>23</th><td>1976</td><td>Arizona</td><td>AZ</td><td>4</td><td>86</td><td>61</td><td>US House</td><td>1</td><td>gen</td></tr><tr><th>24</th><td>1976</td><td>Arizona</td><td>AZ</td><td>4</td><td>86</td><td>61</td><td>US House</td><td>1</td><td>gen</td></tr><tr><th>25</th><td>1976</td><td>Arizona</td><td>AZ</td><td>4</td><td>86</td><td>61</td><td>US House</td><td>1</td><td>gen</td></tr><tr><th>26</th><td>1976</td><td>Arizona</td><td>AZ</td><td>4</td><td>86</td><td>61</td><td>US House</td><td>1</td><td>gen</td></tr><tr><th>27</th><td>1976</td><td>Arizona</td><td>AZ</td><td>4</td><td>86</td><td>61</td><td>US House</td><td>2</td><td>gen</td></tr><tr><th>28</th><td>1976</td><td>Arizona</td><td>AZ</td><td>4</td><td>86</td><td>61</td><td>US House</td><td>2</td><td>gen</td></tr><tr><th>29</th><td>1976</td><td>Arizona</td><td>AZ</td><td>4</td><td>86</td><td>61</td><td>US House</td><td>2</td><td>gen</td></tr><tr><th>30</th><td>1976</td><td>Arizona</td><td>AZ</td><td>4</td><td>86</td><td>61</td><td>US House</td><td>3</td><td>gen</td></tr><tr><th>&vellip;</th><td>&vellip;</td><td>&vellip;</td><td>&vellip;</td><td>&vellip;</td><td>&vellip;</td><td>&vellip;</td><td>&vellip;</td><td>&vellip;</td><td>&vellip;</td></tr></tbody></table>"
      ],
      "text/latex": [
       "\\begin{tabular}{r|cccccccccc}\n",
       "\t& year & state & state\\_po & state\\_fips & state\\_cen & state\\_ic & office & district & stage & \\\\\n",
       "\t\\hline\n",
       "\t& Int64 & String & String & Int64 & Int64 & Int64 & String & Int64 & String? & \\\\\n",
       "\t\\hline\n",
       "\t1 & 1976 & Alabama & AL & 1 & 63 & 41 & US House & 1 & gen & $\\dots$ \\\\\n",
       "\t2 & 1976 & Alabama & AL & 1 & 63 & 41 & US House & 1 & gen & $\\dots$ \\\\\n",
       "\t3 & 1976 & Alabama & AL & 1 & 63 & 41 & US House & 1 & gen & $\\dots$ \\\\\n",
       "\t4 & 1976 & Alabama & AL & 1 & 63 & 41 & US House & 2 & gen & $\\dots$ \\\\\n",
       "\t5 & 1976 & Alabama & AL & 1 & 63 & 41 & US House & 2 & gen & $\\dots$ \\\\\n",
       "\t6 & 1976 & Alabama & AL & 1 & 63 & 41 & US House & 2 & gen & $\\dots$ \\\\\n",
       "\t7 & 1976 & Alabama & AL & 1 & 63 & 41 & US House & 3 & gen & $\\dots$ \\\\\n",
       "\t8 & 1976 & Alabama & AL & 1 & 63 & 41 & US House & 3 & gen & $\\dots$ \\\\\n",
       "\t9 & 1976 & Alabama & AL & 1 & 63 & 41 & US House & 3 & gen & $\\dots$ \\\\\n",
       "\t10 & 1976 & Alabama & AL & 1 & 63 & 41 & US House & 4 & gen & $\\dots$ \\\\\n",
       "\t11 & 1976 & Alabama & AL & 1 & 63 & 41 & US House & 4 & gen & $\\dots$ \\\\\n",
       "\t12 & 1976 & Alabama & AL & 1 & 63 & 41 & US House & 4 & gen & $\\dots$ \\\\\n",
       "\t13 & 1976 & Alabama & AL & 1 & 63 & 41 & US House & 5 & gen & $\\dots$ \\\\\n",
       "\t14 & 1976 & Alabama & AL & 1 & 63 & 41 & US House & 5 & gen & $\\dots$ \\\\\n",
       "\t15 & 1976 & Alabama & AL & 1 & 63 & 41 & US House & 6 & gen & $\\dots$ \\\\\n",
       "\t16 & 1976 & Alabama & AL & 1 & 63 & 41 & US House & 6 & gen & $\\dots$ \\\\\n",
       "\t17 & 1976 & Alabama & AL & 1 & 63 & 41 & US House & 6 & gen & $\\dots$ \\\\\n",
       "\t18 & 1976 & Alabama & AL & 1 & 63 & 41 & US House & 7 & gen & $\\dots$ \\\\\n",
       "\t19 & 1976 & Alabama & AL & 1 & 63 & 41 & US House & 7 & gen & $\\dots$ \\\\\n",
       "\t20 & 1976 & Alaska & AK & 2 & 94 & 81 & US House & 0 & gen & $\\dots$ \\\\\n",
       "\t21 & 1976 & Alaska & AK & 2 & 94 & 81 & US House & 0 & gen & $\\dots$ \\\\\n",
       "\t22 & 1976 & Alaska & AK & 2 & 94 & 81 & US House & 0 & gen & $\\dots$ \\\\\n",
       "\t23 & 1976 & Arizona & AZ & 4 & 86 & 61 & US House & 1 & gen & $\\dots$ \\\\\n",
       "\t24 & 1976 & Arizona & AZ & 4 & 86 & 61 & US House & 1 & gen & $\\dots$ \\\\\n",
       "\t25 & 1976 & Arizona & AZ & 4 & 86 & 61 & US House & 1 & gen & $\\dots$ \\\\\n",
       "\t26 & 1976 & Arizona & AZ & 4 & 86 & 61 & US House & 1 & gen & $\\dots$ \\\\\n",
       "\t27 & 1976 & Arizona & AZ & 4 & 86 & 61 & US House & 2 & gen & $\\dots$ \\\\\n",
       "\t28 & 1976 & Arizona & AZ & 4 & 86 & 61 & US House & 2 & gen & $\\dots$ \\\\\n",
       "\t29 & 1976 & Arizona & AZ & 4 & 86 & 61 & US House & 2 & gen & $\\dots$ \\\\\n",
       "\t30 & 1976 & Arizona & AZ & 4 & 86 & 61 & US House & 3 & gen & $\\dots$ \\\\\n",
       "\t$\\dots$ & $\\dots$ & $\\dots$ & $\\dots$ & $\\dots$ & $\\dots$ & $\\dots$ & $\\dots$ & $\\dots$ & $\\dots$ &  \\\\\n",
       "\\end{tabular}\n"
      ],
      "text/plain": [
       "29636×19 DataFrame. Omitted printing of 13 columns\n",
       "│ Row   │ year  │ state    │ state_po │ state_fips │ state_cen │ state_ic │\n",
       "│       │ \u001b[90mInt64\u001b[39m │ \u001b[90mString\u001b[39m   │ \u001b[90mString\u001b[39m   │ \u001b[90mInt64\u001b[39m      │ \u001b[90mInt64\u001b[39m     │ \u001b[90mInt64\u001b[39m    │\n",
       "├───────┼───────┼──────────┼──────────┼────────────┼───────────┼──────────┤\n",
       "│ 1     │ 1976  │ Alabama  │ AL       │ 1          │ 63        │ 41       │\n",
       "│ 2     │ 1976  │ Alabama  │ AL       │ 1          │ 63        │ 41       │\n",
       "│ 3     │ 1976  │ Alabama  │ AL       │ 1          │ 63        │ 41       │\n",
       "│ 4     │ 1976  │ Alabama  │ AL       │ 1          │ 63        │ 41       │\n",
       "│ 5     │ 1976  │ Alabama  │ AL       │ 1          │ 63        │ 41       │\n",
       "│ 6     │ 1976  │ Alabama  │ AL       │ 1          │ 63        │ 41       │\n",
       "│ 7     │ 1976  │ Alabama  │ AL       │ 1          │ 63        │ 41       │\n",
       "│ 8     │ 1976  │ Alabama  │ AL       │ 1          │ 63        │ 41       │\n",
       "│ 9     │ 1976  │ Alabama  │ AL       │ 1          │ 63        │ 41       │\n",
       "│ 10    │ 1976  │ Alabama  │ AL       │ 1          │ 63        │ 41       │\n",
       "⋮\n",
       "│ 29626 │ 2018  │ Maryland │ MD       │ 24         │ 52        │ 52       │\n",
       "│ 29627 │ 2018  │ Maryland │ MD       │ 24         │ 52        │ 52       │\n",
       "│ 29628 │ 2018  │ Maryland │ MD       │ 24         │ 52        │ 52       │\n",
       "│ 29629 │ 2018  │ Maryland │ MD       │ 24         │ 52        │ 52       │\n",
       "│ 29630 │ 2018  │ Maryland │ MD       │ 24         │ 52        │ 52       │\n",
       "│ 29631 │ 2018  │ Maryland │ MD       │ 24         │ 52        │ 52       │\n",
       "│ 29632 │ 2018  │ Maryland │ MD       │ 24         │ 52        │ 52       │\n",
       "│ 29633 │ 2018  │ Maryland │ MD       │ 24         │ 52        │ 52       │\n",
       "│ 29634 │ 2018  │ Maryland │ MD       │ 24         │ 52        │ 52       │\n",
       "│ 29635 │ 2018  │ Maryland │ MD       │ 24         │ 52        │ 52       │\n",
       "│ 29636 │ 2018  │ Maryland │ MD       │ 24         │ 52        │ 52       │"
      ]
     },
     "execution_count": 2,
     "metadata": {},
     "output_type": "execute_result"
    }
   ],
   "source": [
    "edb = DataFrame(CSV.File(\"C:\\\\Users\\\\ssshu\\\\Downloads\\\\1976-2018-house2.csv\"))"
   ]
  },
  {
   "cell_type": "code",
   "execution_count": 3,
   "metadata": {},
   "outputs": [
    {
     "data": {
      "text/html": [
       "<table class=\"data-frame\"><thead><tr><th></th><th>year</th><th>state</th><th>state_po</th><th>state_fips</th><th>state_cen</th><th>state_ic</th><th>office</th><th>district</th><th>stage</th></tr><tr><th></th><th>Int64</th><th>String</th><th>String</th><th>Int64</th><th>Int64</th><th>Int64</th><th>String</th><th>Int64</th><th>String?</th></tr></thead><tbody><p>1,440 rows × 19 columns (omitted printing of 10 columns)</p><tr><th>1</th><td>2016</td><td>Alabama</td><td>AL</td><td>1</td><td>63</td><td>41</td><td>US House</td><td>1</td><td>gen</td></tr><tr><th>2</th><td>2016</td><td>Alabama</td><td>AL</td><td>1</td><td>63</td><td>41</td><td>US House</td><td>1</td><td>gen</td></tr><tr><th>3</th><td>2016</td><td>Alabama</td><td>AL</td><td>1</td><td>63</td><td>41</td><td>US House</td><td>2</td><td>gen</td></tr><tr><th>4</th><td>2016</td><td>Alabama</td><td>AL</td><td>1</td><td>63</td><td>41</td><td>US House</td><td>2</td><td>gen</td></tr><tr><th>5</th><td>2016</td><td>Alabama</td><td>AL</td><td>1</td><td>63</td><td>41</td><td>US House</td><td>2</td><td>gen</td></tr><tr><th>6</th><td>2016</td><td>Alabama</td><td>AL</td><td>1</td><td>63</td><td>41</td><td>US House</td><td>3</td><td>gen</td></tr><tr><th>7</th><td>2016</td><td>Alabama</td><td>AL</td><td>1</td><td>63</td><td>41</td><td>US House</td><td>3</td><td>gen</td></tr><tr><th>8</th><td>2016</td><td>Alabama</td><td>AL</td><td>1</td><td>63</td><td>41</td><td>US House</td><td>3</td><td>gen</td></tr><tr><th>9</th><td>2016</td><td>Alabama</td><td>AL</td><td>1</td><td>63</td><td>41</td><td>US House</td><td>4</td><td>gen</td></tr><tr><th>10</th><td>2016</td><td>Alabama</td><td>AL</td><td>1</td><td>63</td><td>41</td><td>US House</td><td>4</td><td>gen</td></tr><tr><th>11</th><td>2016</td><td>Alabama</td><td>AL</td><td>1</td><td>63</td><td>41</td><td>US House</td><td>5</td><td>gen</td></tr><tr><th>12</th><td>2016</td><td>Alabama</td><td>AL</td><td>1</td><td>63</td><td>41</td><td>US House</td><td>5</td><td>gen</td></tr><tr><th>13</th><td>2016</td><td>Alabama</td><td>AL</td><td>1</td><td>63</td><td>41</td><td>US House</td><td>5</td><td>gen</td></tr><tr><th>14</th><td>2016</td><td>Alabama</td><td>AL</td><td>1</td><td>63</td><td>41</td><td>US House</td><td>6</td><td>gen</td></tr><tr><th>15</th><td>2016</td><td>Alabama</td><td>AL</td><td>1</td><td>63</td><td>41</td><td>US House</td><td>6</td><td>gen</td></tr><tr><th>16</th><td>2016</td><td>Alabama</td><td>AL</td><td>1</td><td>63</td><td>41</td><td>US House</td><td>6</td><td>gen</td></tr><tr><th>17</th><td>2016</td><td>Alabama</td><td>AL</td><td>1</td><td>63</td><td>41</td><td>US House</td><td>7</td><td>gen</td></tr><tr><th>18</th><td>2016</td><td>Alabama</td><td>AL</td><td>1</td><td>63</td><td>41</td><td>US House</td><td>7</td><td>gen</td></tr><tr><th>19</th><td>2016</td><td>Alaska</td><td>AK</td><td>2</td><td>94</td><td>81</td><td>US House</td><td>0</td><td>gen</td></tr><tr><th>20</th><td>2016</td><td>Alaska</td><td>AK</td><td>2</td><td>94</td><td>81</td><td>US House</td><td>0</td><td>gen</td></tr><tr><th>21</th><td>2016</td><td>Alaska</td><td>AK</td><td>2</td><td>94</td><td>81</td><td>US House</td><td>0</td><td>gen</td></tr><tr><th>22</th><td>2016</td><td>Alaska</td><td>AK</td><td>2</td><td>94</td><td>81</td><td>US House</td><td>0</td><td>gen</td></tr><tr><th>23</th><td>2016</td><td>Alaska</td><td>AK</td><td>2</td><td>94</td><td>81</td><td>US House</td><td>0</td><td>gen</td></tr><tr><th>24</th><td>2016</td><td>Arizona</td><td>AZ</td><td>4</td><td>86</td><td>61</td><td>US House</td><td>1</td><td>gen</td></tr><tr><th>25</th><td>2016</td><td>Arizona</td><td>AZ</td><td>4</td><td>86</td><td>61</td><td>US House</td><td>1</td><td>gen</td></tr><tr><th>26</th><td>2016</td><td>Arizona</td><td>AZ</td><td>4</td><td>86</td><td>61</td><td>US House</td><td>1</td><td>gen</td></tr><tr><th>27</th><td>2016</td><td>Arizona</td><td>AZ</td><td>4</td><td>86</td><td>61</td><td>US House</td><td>2</td><td>gen</td></tr><tr><th>28</th><td>2016</td><td>Arizona</td><td>AZ</td><td>4</td><td>86</td><td>61</td><td>US House</td><td>2</td><td>gen</td></tr><tr><th>29</th><td>2016</td><td>Arizona</td><td>AZ</td><td>4</td><td>86</td><td>61</td><td>US House</td><td>3</td><td>gen</td></tr><tr><th>30</th><td>2016</td><td>Arizona</td><td>AZ</td><td>4</td><td>86</td><td>61</td><td>US House</td><td>3</td><td>gen</td></tr><tr><th>&vellip;</th><td>&vellip;</td><td>&vellip;</td><td>&vellip;</td><td>&vellip;</td><td>&vellip;</td><td>&vellip;</td><td>&vellip;</td><td>&vellip;</td><td>&vellip;</td></tr></tbody></table>"
      ],
      "text/latex": [
       "\\begin{tabular}{r|cccccccccc}\n",
       "\t& year & state & state\\_po & state\\_fips & state\\_cen & state\\_ic & office & district & stage & \\\\\n",
       "\t\\hline\n",
       "\t& Int64 & String & String & Int64 & Int64 & Int64 & String & Int64 & String? & \\\\\n",
       "\t\\hline\n",
       "\t1 & 2016 & Alabama & AL & 1 & 63 & 41 & US House & 1 & gen & $\\dots$ \\\\\n",
       "\t2 & 2016 & Alabama & AL & 1 & 63 & 41 & US House & 1 & gen & $\\dots$ \\\\\n",
       "\t3 & 2016 & Alabama & AL & 1 & 63 & 41 & US House & 2 & gen & $\\dots$ \\\\\n",
       "\t4 & 2016 & Alabama & AL & 1 & 63 & 41 & US House & 2 & gen & $\\dots$ \\\\\n",
       "\t5 & 2016 & Alabama & AL & 1 & 63 & 41 & US House & 2 & gen & $\\dots$ \\\\\n",
       "\t6 & 2016 & Alabama & AL & 1 & 63 & 41 & US House & 3 & gen & $\\dots$ \\\\\n",
       "\t7 & 2016 & Alabama & AL & 1 & 63 & 41 & US House & 3 & gen & $\\dots$ \\\\\n",
       "\t8 & 2016 & Alabama & AL & 1 & 63 & 41 & US House & 3 & gen & $\\dots$ \\\\\n",
       "\t9 & 2016 & Alabama & AL & 1 & 63 & 41 & US House & 4 & gen & $\\dots$ \\\\\n",
       "\t10 & 2016 & Alabama & AL & 1 & 63 & 41 & US House & 4 & gen & $\\dots$ \\\\\n",
       "\t11 & 2016 & Alabama & AL & 1 & 63 & 41 & US House & 5 & gen & $\\dots$ \\\\\n",
       "\t12 & 2016 & Alabama & AL & 1 & 63 & 41 & US House & 5 & gen & $\\dots$ \\\\\n",
       "\t13 & 2016 & Alabama & AL & 1 & 63 & 41 & US House & 5 & gen & $\\dots$ \\\\\n",
       "\t14 & 2016 & Alabama & AL & 1 & 63 & 41 & US House & 6 & gen & $\\dots$ \\\\\n",
       "\t15 & 2016 & Alabama & AL & 1 & 63 & 41 & US House & 6 & gen & $\\dots$ \\\\\n",
       "\t16 & 2016 & Alabama & AL & 1 & 63 & 41 & US House & 6 & gen & $\\dots$ \\\\\n",
       "\t17 & 2016 & Alabama & AL & 1 & 63 & 41 & US House & 7 & gen & $\\dots$ \\\\\n",
       "\t18 & 2016 & Alabama & AL & 1 & 63 & 41 & US House & 7 & gen & $\\dots$ \\\\\n",
       "\t19 & 2016 & Alaska & AK & 2 & 94 & 81 & US House & 0 & gen & $\\dots$ \\\\\n",
       "\t20 & 2016 & Alaska & AK & 2 & 94 & 81 & US House & 0 & gen & $\\dots$ \\\\\n",
       "\t21 & 2016 & Alaska & AK & 2 & 94 & 81 & US House & 0 & gen & $\\dots$ \\\\\n",
       "\t22 & 2016 & Alaska & AK & 2 & 94 & 81 & US House & 0 & gen & $\\dots$ \\\\\n",
       "\t23 & 2016 & Alaska & AK & 2 & 94 & 81 & US House & 0 & gen & $\\dots$ \\\\\n",
       "\t24 & 2016 & Arizona & AZ & 4 & 86 & 61 & US House & 1 & gen & $\\dots$ \\\\\n",
       "\t25 & 2016 & Arizona & AZ & 4 & 86 & 61 & US House & 1 & gen & $\\dots$ \\\\\n",
       "\t26 & 2016 & Arizona & AZ & 4 & 86 & 61 & US House & 1 & gen & $\\dots$ \\\\\n",
       "\t27 & 2016 & Arizona & AZ & 4 & 86 & 61 & US House & 2 & gen & $\\dots$ \\\\\n",
       "\t28 & 2016 & Arizona & AZ & 4 & 86 & 61 & US House & 2 & gen & $\\dots$ \\\\\n",
       "\t29 & 2016 & Arizona & AZ & 4 & 86 & 61 & US House & 3 & gen & $\\dots$ \\\\\n",
       "\t30 & 2016 & Arizona & AZ & 4 & 86 & 61 & US House & 3 & gen & $\\dots$ \\\\\n",
       "\t$\\dots$ & $\\dots$ & $\\dots$ & $\\dots$ & $\\dots$ & $\\dots$ & $\\dots$ & $\\dots$ & $\\dots$ & $\\dots$ &  \\\\\n",
       "\\end{tabular}\n"
      ],
      "text/plain": [
       "1440×19 DataFrame. Omitted printing of 13 columns\n",
       "│ Row  │ year  │ state       │ state_po │ state_fips │ state_cen │ state_ic │\n",
       "│      │ \u001b[90mInt64\u001b[39m │ \u001b[90mString\u001b[39m      │ \u001b[90mString\u001b[39m   │ \u001b[90mInt64\u001b[39m      │ \u001b[90mInt64\u001b[39m     │ \u001b[90mInt64\u001b[39m    │\n",
       "├──────┼───────┼─────────────┼──────────┼────────────┼───────────┼──────────┤\n",
       "│ 1    │ 2016  │ Alabama     │ AL       │ 1          │ 63        │ 41       │\n",
       "│ 2    │ 2016  │ Alabama     │ AL       │ 1          │ 63        │ 41       │\n",
       "│ 3    │ 2016  │ Alabama     │ AL       │ 1          │ 63        │ 41       │\n",
       "│ 4    │ 2016  │ Alabama     │ AL       │ 1          │ 63        │ 41       │\n",
       "│ 5    │ 2016  │ Alabama     │ AL       │ 1          │ 63        │ 41       │\n",
       "│ 6    │ 2016  │ Alabama     │ AL       │ 1          │ 63        │ 41       │\n",
       "│ 7    │ 2016  │ Alabama     │ AL       │ 1          │ 63        │ 41       │\n",
       "│ 8    │ 2016  │ Alabama     │ AL       │ 1          │ 63        │ 41       │\n",
       "│ 9    │ 2016  │ Alabama     │ AL       │ 1          │ 63        │ 41       │\n",
       "│ 10   │ 2016  │ Alabama     │ AL       │ 1          │ 63        │ 41       │\n",
       "⋮\n",
       "│ 1430 │ 2016  │ Wyoming     │ WY       │ 56         │ 83        │ 68       │\n",
       "│ 1431 │ 2016  │ Wyoming     │ WY       │ 56         │ 83        │ 68       │\n",
       "│ 1432 │ 2016  │ Wyoming     │ WY       │ 56         │ 83        │ 68       │\n",
       "│ 1433 │ 2016  │ Wyoming     │ WY       │ 56         │ 83        │ 68       │\n",
       "│ 1434 │ 2016  │ Wyoming     │ WY       │ 56         │ 83        │ 68       │\n",
       "│ 1435 │ 2016  │ Wyoming     │ WY       │ 56         │ 83        │ 68       │\n",
       "│ 1436 │ 2016  │ Connecticut │ CT       │ 9          │ 16        │ 1        │\n",
       "│ 1437 │ 2016  │ Connecticut │ CT       │ 9          │ 16        │ 1        │\n",
       "│ 1438 │ 2016  │ Connecticut │ CT       │ 9          │ 16        │ 1        │\n",
       "│ 1439 │ 2016  │ Connecticut │ CT       │ 9          │ 16        │ 1        │\n",
       "│ 1440 │ 2016  │ Connecticut │ CT       │ 9          │ 16        │ 1        │"
      ]
     },
     "execution_count": 3,
     "metadata": {},
     "output_type": "execute_result"
    }
   ],
   "source": [
    "edb2016 = edb[edb.year .== 2016, :]"
   ]
  },
  {
   "cell_type": "code",
   "execution_count": 4,
   "metadata": {},
   "outputs": [
    {
     "data": {
      "text/plain": [
       "62772633"
      ]
     },
     "execution_count": 4,
     "metadata": {},
     "output_type": "execute_result"
    }
   ],
   "source": [
    "dropmissing!(edb2016)\n",
    "edb2016R = edb2016[edb2016.party .== \"republican\", :]\n",
    "sum(edb2016R.candidatevotes)"
   ]
  },
  {
   "cell_type": "code",
   "execution_count": 5,
   "metadata": {},
   "outputs": [
    {
     "data": {
      "text/plain": [
       "60957891"
      ]
     },
     "execution_count": 5,
     "metadata": {},
     "output_type": "execute_result"
    }
   ],
   "source": [
    "edb2016D = edb2016[edb2016.party .== \"democrat\", :]\n",
    "sum(edb2016D.candidatevotes)"
   ]
  },
  {
   "cell_type": "code",
   "execution_count": 6,
   "metadata": {
    "scrolled": true
   },
   "outputs": [
    {
     "data": {
      "text/html": [
       "<table class=\"data-frame\"><thead><tr><th></th><th>year</th><th>state</th><th>state_po</th><th>state_fips</th><th>state_cen</th><th>state_ic</th><th>office</th><th>district</th><th>stage</th></tr><tr><th></th><th>Int64</th><th>String</th><th>String</th><th>Int64</th><th>Int64</th><th>Int64</th><th>String</th><th>Int64</th><th>String?</th></tr></thead><tbody><p>1,359 rows × 19 columns (omitted printing of 10 columns)</p><tr><th>1</th><td>2018</td><td>Alabama</td><td>AL</td><td>1</td><td>63</td><td>41</td><td>US House</td><td>1</td><td>gen</td></tr><tr><th>2</th><td>2018</td><td>Alabama</td><td>AL</td><td>1</td><td>63</td><td>41</td><td>US House</td><td>1</td><td>gen</td></tr><tr><th>3</th><td>2018</td><td>Alabama</td><td>AL</td><td>1</td><td>63</td><td>41</td><td>US House</td><td>1</td><td>gen</td></tr><tr><th>4</th><td>2018</td><td>Alabama</td><td>AL</td><td>1</td><td>63</td><td>41</td><td>US House</td><td>2</td><td>gen</td></tr><tr><th>5</th><td>2018</td><td>Alabama</td><td>AL</td><td>1</td><td>63</td><td>41</td><td>US House</td><td>2</td><td>gen</td></tr><tr><th>6</th><td>2018</td><td>Alabama</td><td>AL</td><td>1</td><td>63</td><td>41</td><td>US House</td><td>2</td><td>gen</td></tr><tr><th>7</th><td>2018</td><td>Alabama</td><td>AL</td><td>1</td><td>63</td><td>41</td><td>US House</td><td>3</td><td>gen</td></tr><tr><th>8</th><td>2018</td><td>Alabama</td><td>AL</td><td>1</td><td>63</td><td>41</td><td>US House</td><td>3</td><td>gen</td></tr><tr><th>9</th><td>2018</td><td>Alabama</td><td>AL</td><td>1</td><td>63</td><td>41</td><td>US House</td><td>3</td><td>gen</td></tr><tr><th>10</th><td>2018</td><td>Alabama</td><td>AL</td><td>1</td><td>63</td><td>41</td><td>US House</td><td>4</td><td>gen</td></tr><tr><th>11</th><td>2018</td><td>Alabama</td><td>AL</td><td>1</td><td>63</td><td>41</td><td>US House</td><td>4</td><td>gen</td></tr><tr><th>12</th><td>2018</td><td>Alabama</td><td>AL</td><td>1</td><td>63</td><td>41</td><td>US House</td><td>4</td><td>gen</td></tr><tr><th>13</th><td>2018</td><td>Alabama</td><td>AL</td><td>1</td><td>63</td><td>41</td><td>US House</td><td>5</td><td>gen</td></tr><tr><th>14</th><td>2018</td><td>Alabama</td><td>AL</td><td>1</td><td>63</td><td>41</td><td>US House</td><td>5</td><td>gen</td></tr><tr><th>15</th><td>2018</td><td>Alabama</td><td>AL</td><td>1</td><td>63</td><td>41</td><td>US House</td><td>5</td><td>gen</td></tr><tr><th>16</th><td>2018</td><td>Alabama</td><td>AL</td><td>1</td><td>63</td><td>41</td><td>US House</td><td>6</td><td>gen</td></tr><tr><th>17</th><td>2018</td><td>Alabama</td><td>AL</td><td>1</td><td>63</td><td>41</td><td>US House</td><td>6</td><td>gen</td></tr><tr><th>18</th><td>2018</td><td>Alabama</td><td>AL</td><td>1</td><td>63</td><td>41</td><td>US House</td><td>6</td><td>gen</td></tr><tr><th>19</th><td>2018</td><td>Alabama</td><td>AL</td><td>1</td><td>63</td><td>41</td><td>US House</td><td>7</td><td>gen</td></tr><tr><th>20</th><td>2018</td><td>Alabama</td><td>AL</td><td>1</td><td>63</td><td>41</td><td>US House</td><td>7</td><td>gen</td></tr><tr><th>21</th><td>2018</td><td>Alaska</td><td>AK</td><td>2</td><td>94</td><td>81</td><td>US House</td><td>0</td><td>gen</td></tr><tr><th>22</th><td>2018</td><td>Alaska</td><td>AK</td><td>2</td><td>94</td><td>81</td><td>US House</td><td>0</td><td>gen</td></tr><tr><th>23</th><td>2018</td><td>Alaska</td><td>AK</td><td>2</td><td>94</td><td>81</td><td>US House</td><td>0</td><td>gen</td></tr><tr><th>24</th><td>2018</td><td>Arizona</td><td>AZ</td><td>4</td><td>86</td><td>61</td><td>US House</td><td>1</td><td>gen</td></tr><tr><th>25</th><td>2018</td><td>Arizona</td><td>AZ</td><td>4</td><td>86</td><td>61</td><td>US House</td><td>1</td><td>gen</td></tr><tr><th>26</th><td>2018</td><td>Arizona</td><td>AZ</td><td>4</td><td>86</td><td>61</td><td>US House</td><td>1</td><td>gen</td></tr><tr><th>27</th><td>2018</td><td>Arizona</td><td>AZ</td><td>4</td><td>86</td><td>61</td><td>US House</td><td>2</td><td>gen</td></tr><tr><th>28</th><td>2018</td><td>Arizona</td><td>AZ</td><td>4</td><td>86</td><td>61</td><td>US House</td><td>2</td><td>gen</td></tr><tr><th>29</th><td>2018</td><td>Arizona</td><td>AZ</td><td>4</td><td>86</td><td>61</td><td>US House</td><td>2</td><td>gen</td></tr><tr><th>30</th><td>2018</td><td>Arizona</td><td>AZ</td><td>4</td><td>86</td><td>61</td><td>US House</td><td>3</td><td>gen</td></tr><tr><th>&vellip;</th><td>&vellip;</td><td>&vellip;</td><td>&vellip;</td><td>&vellip;</td><td>&vellip;</td><td>&vellip;</td><td>&vellip;</td><td>&vellip;</td><td>&vellip;</td></tr></tbody></table>"
      ],
      "text/latex": [
       "\\begin{tabular}{r|cccccccccc}\n",
       "\t& year & state & state\\_po & state\\_fips & state\\_cen & state\\_ic & office & district & stage & \\\\\n",
       "\t\\hline\n",
       "\t& Int64 & String & String & Int64 & Int64 & Int64 & String & Int64 & String? & \\\\\n",
       "\t\\hline\n",
       "\t1 & 2018 & Alabama & AL & 1 & 63 & 41 & US House & 1 & gen & $\\dots$ \\\\\n",
       "\t2 & 2018 & Alabama & AL & 1 & 63 & 41 & US House & 1 & gen & $\\dots$ \\\\\n",
       "\t3 & 2018 & Alabama & AL & 1 & 63 & 41 & US House & 1 & gen & $\\dots$ \\\\\n",
       "\t4 & 2018 & Alabama & AL & 1 & 63 & 41 & US House & 2 & gen & $\\dots$ \\\\\n",
       "\t5 & 2018 & Alabama & AL & 1 & 63 & 41 & US House & 2 & gen & $\\dots$ \\\\\n",
       "\t6 & 2018 & Alabama & AL & 1 & 63 & 41 & US House & 2 & gen & $\\dots$ \\\\\n",
       "\t7 & 2018 & Alabama & AL & 1 & 63 & 41 & US House & 3 & gen & $\\dots$ \\\\\n",
       "\t8 & 2018 & Alabama & AL & 1 & 63 & 41 & US House & 3 & gen & $\\dots$ \\\\\n",
       "\t9 & 2018 & Alabama & AL & 1 & 63 & 41 & US House & 3 & gen & $\\dots$ \\\\\n",
       "\t10 & 2018 & Alabama & AL & 1 & 63 & 41 & US House & 4 & gen & $\\dots$ \\\\\n",
       "\t11 & 2018 & Alabama & AL & 1 & 63 & 41 & US House & 4 & gen & $\\dots$ \\\\\n",
       "\t12 & 2018 & Alabama & AL & 1 & 63 & 41 & US House & 4 & gen & $\\dots$ \\\\\n",
       "\t13 & 2018 & Alabama & AL & 1 & 63 & 41 & US House & 5 & gen & $\\dots$ \\\\\n",
       "\t14 & 2018 & Alabama & AL & 1 & 63 & 41 & US House & 5 & gen & $\\dots$ \\\\\n",
       "\t15 & 2018 & Alabama & AL & 1 & 63 & 41 & US House & 5 & gen & $\\dots$ \\\\\n",
       "\t16 & 2018 & Alabama & AL & 1 & 63 & 41 & US House & 6 & gen & $\\dots$ \\\\\n",
       "\t17 & 2018 & Alabama & AL & 1 & 63 & 41 & US House & 6 & gen & $\\dots$ \\\\\n",
       "\t18 & 2018 & Alabama & AL & 1 & 63 & 41 & US House & 6 & gen & $\\dots$ \\\\\n",
       "\t19 & 2018 & Alabama & AL & 1 & 63 & 41 & US House & 7 & gen & $\\dots$ \\\\\n",
       "\t20 & 2018 & Alabama & AL & 1 & 63 & 41 & US House & 7 & gen & $\\dots$ \\\\\n",
       "\t21 & 2018 & Alaska & AK & 2 & 94 & 81 & US House & 0 & gen & $\\dots$ \\\\\n",
       "\t22 & 2018 & Alaska & AK & 2 & 94 & 81 & US House & 0 & gen & $\\dots$ \\\\\n",
       "\t23 & 2018 & Alaska & AK & 2 & 94 & 81 & US House & 0 & gen & $\\dots$ \\\\\n",
       "\t24 & 2018 & Arizona & AZ & 4 & 86 & 61 & US House & 1 & gen & $\\dots$ \\\\\n",
       "\t25 & 2018 & Arizona & AZ & 4 & 86 & 61 & US House & 1 & gen & $\\dots$ \\\\\n",
       "\t26 & 2018 & Arizona & AZ & 4 & 86 & 61 & US House & 1 & gen & $\\dots$ \\\\\n",
       "\t27 & 2018 & Arizona & AZ & 4 & 86 & 61 & US House & 2 & gen & $\\dots$ \\\\\n",
       "\t28 & 2018 & Arizona & AZ & 4 & 86 & 61 & US House & 2 & gen & $\\dots$ \\\\\n",
       "\t29 & 2018 & Arizona & AZ & 4 & 86 & 61 & US House & 2 & gen & $\\dots$ \\\\\n",
       "\t30 & 2018 & Arizona & AZ & 4 & 86 & 61 & US House & 3 & gen & $\\dots$ \\\\\n",
       "\t$\\dots$ & $\\dots$ & $\\dots$ & $\\dots$ & $\\dots$ & $\\dots$ & $\\dots$ & $\\dots$ & $\\dots$ & $\\dots$ &  \\\\\n",
       "\\end{tabular}\n"
      ],
      "text/plain": [
       "1359×19 DataFrame. Omitted printing of 13 columns\n",
       "│ Row  │ year  │ state    │ state_po │ state_fips │ state_cen │ state_ic │\n",
       "│      │ \u001b[90mInt64\u001b[39m │ \u001b[90mString\u001b[39m   │ \u001b[90mString\u001b[39m   │ \u001b[90mInt64\u001b[39m      │ \u001b[90mInt64\u001b[39m     │ \u001b[90mInt64\u001b[39m    │\n",
       "├──────┼───────┼──────────┼──────────┼────────────┼───────────┼──────────┤\n",
       "│ 1    │ 2018  │ Alabama  │ AL       │ 1          │ 63        │ 41       │\n",
       "│ 2    │ 2018  │ Alabama  │ AL       │ 1          │ 63        │ 41       │\n",
       "│ 3    │ 2018  │ Alabama  │ AL       │ 1          │ 63        │ 41       │\n",
       "│ 4    │ 2018  │ Alabama  │ AL       │ 1          │ 63        │ 41       │\n",
       "│ 5    │ 2018  │ Alabama  │ AL       │ 1          │ 63        │ 41       │\n",
       "│ 6    │ 2018  │ Alabama  │ AL       │ 1          │ 63        │ 41       │\n",
       "│ 7    │ 2018  │ Alabama  │ AL       │ 1          │ 63        │ 41       │\n",
       "│ 8    │ 2018  │ Alabama  │ AL       │ 1          │ 63        │ 41       │\n",
       "│ 9    │ 2018  │ Alabama  │ AL       │ 1          │ 63        │ 41       │\n",
       "│ 10   │ 2018  │ Alabama  │ AL       │ 1          │ 63        │ 41       │\n",
       "⋮\n",
       "│ 1349 │ 2018  │ Maryland │ MD       │ 24         │ 52        │ 52       │\n",
       "│ 1350 │ 2018  │ Maryland │ MD       │ 24         │ 52        │ 52       │\n",
       "│ 1351 │ 2018  │ Maryland │ MD       │ 24         │ 52        │ 52       │\n",
       "│ 1352 │ 2018  │ Maryland │ MD       │ 24         │ 52        │ 52       │\n",
       "│ 1353 │ 2018  │ Maryland │ MD       │ 24         │ 52        │ 52       │\n",
       "│ 1354 │ 2018  │ Maryland │ MD       │ 24         │ 52        │ 52       │\n",
       "│ 1355 │ 2018  │ Maryland │ MD       │ 24         │ 52        │ 52       │\n",
       "│ 1356 │ 2018  │ Maryland │ MD       │ 24         │ 52        │ 52       │\n",
       "│ 1357 │ 2018  │ Maryland │ MD       │ 24         │ 52        │ 52       │\n",
       "│ 1358 │ 2018  │ Maryland │ MD       │ 24         │ 52        │ 52       │\n",
       "│ 1359 │ 2018  │ Maryland │ MD       │ 24         │ 52        │ 52       │"
      ]
     },
     "execution_count": 6,
     "metadata": {},
     "output_type": "execute_result"
    }
   ],
   "source": [
    "edb2018 = edb[edb.year .== 2018, :]"
   ]
  },
  {
   "cell_type": "code",
   "execution_count": 7,
   "metadata": {},
   "outputs": [
    {
     "data": {
      "text/plain": [
       "50752541"
      ]
     },
     "execution_count": 7,
     "metadata": {},
     "output_type": "execute_result"
    }
   ],
   "source": [
    "dropmissing!(edb2018)\n",
    "edb2018R = edb2018[edb2018.party .== \"republican\", :]\n",
    "sum(edb2018R.candidatevotes)"
   ]
  },
  {
   "cell_type": "code",
   "execution_count": 8,
   "metadata": {},
   "outputs": [
    {
     "data": {
      "text/plain": [
       "58919398"
      ]
     },
     "execution_count": 8,
     "metadata": {},
     "output_type": "execute_result"
    }
   ],
   "source": [
    "edb2018D = edb2018[edb2018.party .== \"democrat\", :]\n",
    "sum(edb2018D.candidatevotes)"
   ]
  },
  {
   "cell_type": "code",
   "execution_count": 9,
   "metadata": {},
   "outputs": [
    {
     "data": {
      "text/html": [
       "<table class=\"data-frame\"><thead><tr><th></th><th>year</th><th>state</th><th>state_po</th><th>state_fips</th><th>state_cen</th><th>state_ic</th><th>office</th><th>district</th></tr><tr><th></th><th>Int64</th><th>String</th><th>String</th><th>Int64</th><th>Int64</th><th>Int64</th><th>String</th><th>String</th></tr></thead><tbody><p>3,421 rows × 18 columns (omitted printing of 10 columns)</p><tr><th>1</th><td>1976</td><td>Arizona</td><td>AZ</td><td>4</td><td>86</td><td>61</td><td>US Senate</td><td>statewide</td></tr><tr><th>2</th><td>1976</td><td>Arizona</td><td>AZ</td><td>4</td><td>86</td><td>61</td><td>US Senate</td><td>statewide</td></tr><tr><th>3</th><td>1976</td><td>Arizona</td><td>AZ</td><td>4</td><td>86</td><td>61</td><td>US Senate</td><td>statewide</td></tr><tr><th>4</th><td>1976</td><td>Arizona</td><td>AZ</td><td>4</td><td>86</td><td>61</td><td>US Senate</td><td>statewide</td></tr><tr><th>5</th><td>1976</td><td>Arizona</td><td>AZ</td><td>4</td><td>86</td><td>61</td><td>US Senate</td><td>statewide</td></tr><tr><th>6</th><td>1976</td><td>California</td><td>CA</td><td>6</td><td>93</td><td>71</td><td>US Senate</td><td>statewide</td></tr><tr><th>7</th><td>1976</td><td>California</td><td>CA</td><td>6</td><td>93</td><td>71</td><td>US Senate</td><td>statewide</td></tr><tr><th>8</th><td>1976</td><td>California</td><td>CA</td><td>6</td><td>93</td><td>71</td><td>US Senate</td><td>statewide</td></tr><tr><th>9</th><td>1976</td><td>California</td><td>CA</td><td>6</td><td>93</td><td>71</td><td>US Senate</td><td>statewide</td></tr><tr><th>10</th><td>1976</td><td>California</td><td>CA</td><td>6</td><td>93</td><td>71</td><td>US Senate</td><td>statewide</td></tr><tr><th>11</th><td>1976</td><td>Connecticut</td><td>CT</td><td>9</td><td>16</td><td>1</td><td>US Senate</td><td>statewide</td></tr><tr><th>12</th><td>1976</td><td>Connecticut</td><td>CT</td><td>9</td><td>16</td><td>1</td><td>US Senate</td><td>statewide</td></tr><tr><th>13</th><td>1976</td><td>Connecticut</td><td>CT</td><td>9</td><td>16</td><td>1</td><td>US Senate</td><td>statewide</td></tr><tr><th>14</th><td>1976</td><td>Connecticut</td><td>CT</td><td>9</td><td>16</td><td>1</td><td>US Senate</td><td>statewide</td></tr><tr><th>15</th><td>1976</td><td>Delaware</td><td>DE</td><td>10</td><td>51</td><td>11</td><td>US Senate</td><td>statewide</td></tr><tr><th>16</th><td>1976</td><td>Delaware</td><td>DE</td><td>10</td><td>51</td><td>11</td><td>US Senate</td><td>statewide</td></tr><tr><th>17</th><td>1976</td><td>Delaware</td><td>DE</td><td>10</td><td>51</td><td>11</td><td>US Senate</td><td>statewide</td></tr><tr><th>18</th><td>1976</td><td>Delaware</td><td>DE</td><td>10</td><td>51</td><td>11</td><td>US Senate</td><td>statewide</td></tr><tr><th>19</th><td>1976</td><td>Delaware</td><td>DE</td><td>10</td><td>51</td><td>11</td><td>US Senate</td><td>statewide</td></tr><tr><th>20</th><td>1976</td><td>Florida</td><td>FL</td><td>12</td><td>59</td><td>43</td><td>US Senate</td><td>statewide</td></tr><tr><th>21</th><td>1976</td><td>Florida</td><td>FL</td><td>12</td><td>59</td><td>43</td><td>US Senate</td><td>statewide</td></tr><tr><th>22</th><td>1976</td><td>Florida</td><td>FL</td><td>12</td><td>59</td><td>43</td><td>US Senate</td><td>statewide</td></tr><tr><th>23</th><td>1976</td><td>Hawaii</td><td>HI</td><td>15</td><td>95</td><td>82</td><td>US Senate</td><td>statewide</td></tr><tr><th>24</th><td>1976</td><td>Hawaii</td><td>HI</td><td>15</td><td>95</td><td>82</td><td>US Senate</td><td>statewide</td></tr><tr><th>25</th><td>1976</td><td>Hawaii</td><td>HI</td><td>15</td><td>95</td><td>82</td><td>US Senate</td><td>statewide</td></tr><tr><th>26</th><td>1976</td><td>Hawaii</td><td>HI</td><td>15</td><td>95</td><td>82</td><td>US Senate</td><td>statewide</td></tr><tr><th>27</th><td>1976</td><td>Hawaii</td><td>HI</td><td>15</td><td>95</td><td>82</td><td>US Senate</td><td>statewide</td></tr><tr><th>28</th><td>1976</td><td>Indiana</td><td>IN</td><td>18</td><td>32</td><td>22</td><td>US Senate</td><td>statewide</td></tr><tr><th>29</th><td>1976</td><td>Indiana</td><td>IN</td><td>18</td><td>32</td><td>22</td><td>US Senate</td><td>statewide</td></tr><tr><th>30</th><td>1976</td><td>Indiana</td><td>IN</td><td>18</td><td>32</td><td>22</td><td>US Senate</td><td>statewide</td></tr><tr><th>&vellip;</th><td>&vellip;</td><td>&vellip;</td><td>&vellip;</td><td>&vellip;</td><td>&vellip;</td><td>&vellip;</td><td>&vellip;</td><td>&vellip;</td></tr></tbody></table>"
      ],
      "text/latex": [
       "\\begin{tabular}{r|ccccccccc}\n",
       "\t& year & state & state\\_po & state\\_fips & state\\_cen & state\\_ic & office & district & \\\\\n",
       "\t\\hline\n",
       "\t& Int64 & String & String & Int64 & Int64 & Int64 & String & String & \\\\\n",
       "\t\\hline\n",
       "\t1 & 1976 & Arizona & AZ & 4 & 86 & 61 & US Senate & statewide & $\\dots$ \\\\\n",
       "\t2 & 1976 & Arizona & AZ & 4 & 86 & 61 & US Senate & statewide & $\\dots$ \\\\\n",
       "\t3 & 1976 & Arizona & AZ & 4 & 86 & 61 & US Senate & statewide & $\\dots$ \\\\\n",
       "\t4 & 1976 & Arizona & AZ & 4 & 86 & 61 & US Senate & statewide & $\\dots$ \\\\\n",
       "\t5 & 1976 & Arizona & AZ & 4 & 86 & 61 & US Senate & statewide & $\\dots$ \\\\\n",
       "\t6 & 1976 & California & CA & 6 & 93 & 71 & US Senate & statewide & $\\dots$ \\\\\n",
       "\t7 & 1976 & California & CA & 6 & 93 & 71 & US Senate & statewide & $\\dots$ \\\\\n",
       "\t8 & 1976 & California & CA & 6 & 93 & 71 & US Senate & statewide & $\\dots$ \\\\\n",
       "\t9 & 1976 & California & CA & 6 & 93 & 71 & US Senate & statewide & $\\dots$ \\\\\n",
       "\t10 & 1976 & California & CA & 6 & 93 & 71 & US Senate & statewide & $\\dots$ \\\\\n",
       "\t11 & 1976 & Connecticut & CT & 9 & 16 & 1 & US Senate & statewide & $\\dots$ \\\\\n",
       "\t12 & 1976 & Connecticut & CT & 9 & 16 & 1 & US Senate & statewide & $\\dots$ \\\\\n",
       "\t13 & 1976 & Connecticut & CT & 9 & 16 & 1 & US Senate & statewide & $\\dots$ \\\\\n",
       "\t14 & 1976 & Connecticut & CT & 9 & 16 & 1 & US Senate & statewide & $\\dots$ \\\\\n",
       "\t15 & 1976 & Delaware & DE & 10 & 51 & 11 & US Senate & statewide & $\\dots$ \\\\\n",
       "\t16 & 1976 & Delaware & DE & 10 & 51 & 11 & US Senate & statewide & $\\dots$ \\\\\n",
       "\t17 & 1976 & Delaware & DE & 10 & 51 & 11 & US Senate & statewide & $\\dots$ \\\\\n",
       "\t18 & 1976 & Delaware & DE & 10 & 51 & 11 & US Senate & statewide & $\\dots$ \\\\\n",
       "\t19 & 1976 & Delaware & DE & 10 & 51 & 11 & US Senate & statewide & $\\dots$ \\\\\n",
       "\t20 & 1976 & Florida & FL & 12 & 59 & 43 & US Senate & statewide & $\\dots$ \\\\\n",
       "\t21 & 1976 & Florida & FL & 12 & 59 & 43 & US Senate & statewide & $\\dots$ \\\\\n",
       "\t22 & 1976 & Florida & FL & 12 & 59 & 43 & US Senate & statewide & $\\dots$ \\\\\n",
       "\t23 & 1976 & Hawaii & HI & 15 & 95 & 82 & US Senate & statewide & $\\dots$ \\\\\n",
       "\t24 & 1976 & Hawaii & HI & 15 & 95 & 82 & US Senate & statewide & $\\dots$ \\\\\n",
       "\t25 & 1976 & Hawaii & HI & 15 & 95 & 82 & US Senate & statewide & $\\dots$ \\\\\n",
       "\t26 & 1976 & Hawaii & HI & 15 & 95 & 82 & US Senate & statewide & $\\dots$ \\\\\n",
       "\t27 & 1976 & Hawaii & HI & 15 & 95 & 82 & US Senate & statewide & $\\dots$ \\\\\n",
       "\t28 & 1976 & Indiana & IN & 18 & 32 & 22 & US Senate & statewide & $\\dots$ \\\\\n",
       "\t29 & 1976 & Indiana & IN & 18 & 32 & 22 & US Senate & statewide & $\\dots$ \\\\\n",
       "\t30 & 1976 & Indiana & IN & 18 & 32 & 22 & US Senate & statewide & $\\dots$ \\\\\n",
       "\t$\\dots$ & $\\dots$ & $\\dots$ & $\\dots$ & $\\dots$ & $\\dots$ & $\\dots$ & $\\dots$ & $\\dots$ &  \\\\\n",
       "\\end{tabular}\n"
      ],
      "text/plain": [
       "3421×18 DataFrame. Omitted printing of 12 columns\n",
       "│ Row  │ year  │ state         │ state_po │ state_fips │ state_cen │ state_ic │\n",
       "│      │ \u001b[90mInt64\u001b[39m │ \u001b[90mString\u001b[39m        │ \u001b[90mString\u001b[39m   │ \u001b[90mInt64\u001b[39m      │ \u001b[90mInt64\u001b[39m     │ \u001b[90mInt64\u001b[39m    │\n",
       "├──────┼───────┼───────────────┼──────────┼────────────┼───────────┼──────────┤\n",
       "│ 1    │ 1976  │ Arizona       │ AZ       │ 4          │ 86        │ 61       │\n",
       "│ 2    │ 1976  │ Arizona       │ AZ       │ 4          │ 86        │ 61       │\n",
       "│ 3    │ 1976  │ Arizona       │ AZ       │ 4          │ 86        │ 61       │\n",
       "│ 4    │ 1976  │ Arizona       │ AZ       │ 4          │ 86        │ 61       │\n",
       "│ 5    │ 1976  │ Arizona       │ AZ       │ 4          │ 86        │ 61       │\n",
       "│ 6    │ 1976  │ California    │ CA       │ 6          │ 93        │ 71       │\n",
       "│ 7    │ 1976  │ California    │ CA       │ 6          │ 93        │ 71       │\n",
       "│ 8    │ 1976  │ California    │ CA       │ 6          │ 93        │ 71       │\n",
       "│ 9    │ 1976  │ California    │ CA       │ 6          │ 93        │ 71       │\n",
       "│ 10   │ 1976  │ California    │ CA       │ 6          │ 93        │ 71       │\n",
       "⋮\n",
       "│ 3411 │ 2018  │ Washington    │ WA       │ 53         │ 91        │ 73       │\n",
       "│ 3412 │ 2018  │ West Virginia │ WV       │ 54         │ 55        │ 56       │\n",
       "│ 3413 │ 2018  │ West Virginia │ WV       │ 54         │ 55        │ 56       │\n",
       "│ 3414 │ 2018  │ West Virginia │ WV       │ 54         │ 55        │ 56       │\n",
       "│ 3415 │ 2018  │ Wisconsin     │ WI       │ 55         │ 35        │ 25       │\n",
       "│ 3416 │ 2018  │ Wisconsin     │ WI       │ 55         │ 35        │ 25       │\n",
       "│ 3417 │ 2018  │ Wisconsin     │ WI       │ 55         │ 35        │ 25       │\n",
       "│ 3418 │ 2018  │ Wyoming       │ WY       │ 56         │ 83        │ 68       │\n",
       "│ 3419 │ 2018  │ Wyoming       │ WY       │ 56         │ 83        │ 68       │\n",
       "│ 3420 │ 2018  │ Wyoming       │ WY       │ 56         │ 83        │ 68       │\n",
       "│ 3421 │ 2018  │ Wyoming       │ WY       │ 56         │ 83        │ 68       │"
      ]
     },
     "execution_count": 9,
     "metadata": {},
     "output_type": "execute_result"
    }
   ],
   "source": [
    "sedb = DataFrame(CSV.File(\"C:\\\\Users\\\\ssshu\\\\Downloads\\\\1976-2018-senate.csv\"))"
   ]
  },
  {
   "cell_type": "code",
   "execution_count": 10,
   "metadata": {},
   "outputs": [
    {
     "data": {
      "text/plain": [
       "40842211"
      ]
     },
     "execution_count": 10,
     "metadata": {},
     "output_type": "execute_result"
    }
   ],
   "source": [
    "sedb2016 = sedb[sedb.year .== 2016, :]\n",
    "dropmissing!(sedb2016)\n",
    "sedb2016R = sedb2016[sedb2016.party .== \"republican\", :]\n",
    "sum(sedb2016R.candidatevotes)"
   ]
  },
  {
   "cell_type": "code",
   "execution_count": 11,
   "metadata": {},
   "outputs": [
    {
     "data": {
      "text/plain": [
       "51315969"
      ]
     },
     "execution_count": 11,
     "metadata": {},
     "output_type": "execute_result"
    }
   ],
   "source": [
    "sedb2016D = sedb2016[sedb2016.party .== \"democrat\", :]\n",
    "sum(sedb2016D.candidatevotes)"
   ]
  },
  {
   "cell_type": "code",
   "execution_count": 12,
   "metadata": {},
   "outputs": [
    {
     "data": {
      "text/plain": [
       "34721533"
      ]
     },
     "execution_count": 12,
     "metadata": {},
     "output_type": "execute_result"
    }
   ],
   "source": [
    "sedb2018 = sedb[sedb.year .== 2018, :]\n",
    "dropmissing!(sedb2018)\n",
    "sedb2018R = sedb2018[sedb2018.party .== \"republican\", :]\n",
    "sum(sedb2018R.candidatevotes) "
   ]
  },
  {
   "cell_type": "code",
   "execution_count": 13,
   "metadata": {},
   "outputs": [
    {
     "data": {
      "text/plain": [
       "49127318"
      ]
     },
     "execution_count": 13,
     "metadata": {},
     "output_type": "execute_result"
    }
   ],
   "source": [
    "sedb2018D = sedb2018[sedb2018.party .== \"democrat\", :]\n",
    "sum(sedb2018D.candidatevotes) "
   ]
  },
  {
   "cell_type": "code",
   "execution_count": null,
   "metadata": {},
   "outputs": [],
   "source": []
  },
  {
   "cell_type": "code",
   "execution_count": null,
   "metadata": {},
   "outputs": [],
   "source": []
  }
 ],
 "metadata": {
  "kernelspec": {
   "display_name": "Julia 1.5.0",
   "language": "julia",
   "name": "julia-1.5"
  },
  "language_info": {
   "file_extension": ".jl",
   "mimetype": "application/julia",
   "name": "julia",
   "version": "1.5.0"
  }
 },
 "nbformat": 4,
 "nbformat_minor": 2
}
